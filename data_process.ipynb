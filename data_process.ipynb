{
 "cells": [
  {
   "cell_type": "markdown",
   "metadata": {},
   "source": [
    "# Load Data"
   ]
  },
  {
   "cell_type": "code",
   "execution_count": 1,
   "metadata": {},
   "outputs": [
    {
     "name": "stdout",
     "output_type": "stream",
     "text": [
      "Load existing data\n",
      "            Bitcoin  Tesla    S&P500  Bond  Gold\n",
      "Date                                            \n",
      "1980-01-01      NaN    NaN       NaN   NaN   NaN\n",
      "1980-01-02      NaN    NaN  4.752916   NaN   NaN\n",
      "1980-01-03      NaN    NaN  4.729715   NaN   NaN\n",
      "1980-01-04      NaN    NaN  4.789373   NaN   NaN\n",
      "1980-01-05      NaN    NaN       NaN   NaN   NaN\n",
      "1980-01-06      NaN    NaN       NaN   NaN   NaN\n",
      "1980-01-07      NaN    NaN  4.802632   NaN   NaN\n",
      "1980-01-08      NaN    NaN  4.898751   NaN   NaN\n",
      "1980-01-09      NaN    NaN  4.905380   NaN   NaN\n",
      "1980-01-10      NaN    NaN  4.941841   NaN   NaN\n",
      "                 Bitcoin       Tesla      S&P500   Bond         Gold\n",
      "Date                                                                \n",
      "2020-12-04  18699.765625  599.039978  342.359985  11.58  1835.900024\n",
      "2020-12-05  19154.230469         NaN         NaN    NaN          NaN\n",
      "2020-12-06  19345.121094         NaN         NaN    NaN          NaN\n",
      "2020-12-07  19191.630859  641.760010  341.690002  11.61  1861.800049\n",
      "2020-12-08  18321.144531  649.880005  342.649994  11.61  1870.800049\n",
      "2020-12-09  18553.916016  604.479980  339.940002  11.59  1834.599976\n",
      "2020-12-10  18264.992188  627.070007  339.529999  11.61  1833.599976\n",
      "2020-12-11  18058.904297  609.989990  339.109985  11.63  1839.800049\n",
      "2020-12-12  18803.656250         NaN         NaN    NaN          NaN\n",
      "2020-12-13  19295.072266         NaN         NaN    NaN          NaN\n"
     ]
    }
   ],
   "source": [
    "import pandas as pd\n",
    "import pandas_datareader as pdr\n",
    "from datetime import datetime\n",
    "import os\n",
    "import matplotlib.pyplot as plt\n",
    "import math\n",
    "import numpy as np\n",
    "sd = datetime(1980,1,1)\n",
    "ed = datetime.today()\n",
    "df= pd.DataFrame(index=pd.date_range(start=sd,end=ed, freq='D'))\n",
    "#df = pd.DataFrame()\n",
    "investments ={\n",
    "    \"Bitcoin\":\"BTC-USD\",    \n",
    "    \"Tesla\":\"TSLA\",    \n",
    "    \"S&P500\":\"VFINX\",\n",
    "    \"Bond\":\"VBMFX\",\n",
    "    \"Gold\": \"GC=F\",\n",
    "}\n",
    "\n",
    "investments_data = \"investments_data.csv\"\n",
    "s=[]\n",
    "if (os.path.exists(investments_data)):\n",
    "    print(\"Load existing data\")\n",
    "    df = pd.read_csv(investments_data, parse_dates=True,index_col='Date')\n",
    "else:\n",
    "    for name in investments.keys():\n",
    "        s = (pdr.get_data_yahoo(symbols=investments[name], start=sd, end=ed)[\"Adj Close\"])\n",
    "        #drop duplicated index\n",
    "        s = s.groupby(level=0).last()\n",
    "        df[name]=s\n",
    "    df.to_csv(path_or_buf=investments_data,index_label='Date')\n",
    "print(df.head(10),)\n",
    "print(df.tail(10),)\n",
    "#df.columns"
   ]
  },
  {
   "cell_type": "code",
   "execution_count": 2,
   "metadata": {},
   "outputs": [
    {
     "name": "stdout",
     "output_type": "stream",
     "text": [
      "               Bitcoin      Tesla      S&P500      Bond         Gold\n",
      "Date                                                                \n",
      "2015-01-01  314.248993  44.481998  170.486542  9.384991  1183.900024\n",
      "2015-01-02  315.032013  43.862000  170.450638  9.410891  1186.000000\n",
      "2015-01-03  281.082001  43.862000  170.450638  9.410891  1186.000000\n",
      "2015-01-04  264.195007  43.862000  170.450638  9.410891  1186.000000\n",
      "2015-01-05  274.473999  42.018002  167.344223  9.436790  1203.900024\n",
      "2015-01-06  286.188995  42.256001  165.853836  9.471324  1219.300049\n",
      "2015-01-07  294.337006  42.189999  167.837997  9.471324  1210.599976\n",
      "2015-01-08  283.348999  42.124001  170.836731  9.445423  1208.400024\n",
      "2015-01-09  290.407990  41.332001  169.400208  9.471324  1216.000000\n",
      "2015-01-10  274.795990  41.332001  169.400208  9.471324  1216.000000\n",
      "                Bitcoin      Tesla      S&P500       Bond         Gold\n",
      "Date                                                                  \n",
      "2019-12-22  7511.588867  81.117996  293.386780  10.807795  1482.099976\n",
      "2019-12-23  7355.628418  83.844002  293.633606  10.798012  1482.500000\n",
      "2019-12-24  7322.532227  85.050003  293.603973  10.807795  1482.500000\n",
      "2019-12-25  7275.155762  85.050003  293.603973  10.807795  1482.500000\n",
      "2019-12-26  7238.966797  86.188004  295.134216  10.817575  1509.300049\n",
      "2019-12-27  7290.088379  86.075996  295.144043  10.827355  1513.800049\n",
      "2019-12-28  7317.990234  86.075996  295.144043  10.827355  1513.800049\n",
      "2019-12-29  7422.652832  86.075996  295.144043  10.827355  1517.000000\n",
      "2019-12-30  7292.995117  82.940002  293.475647  10.827355  1514.500000\n",
      "2019-12-31  7193.599121  83.666000  294.354279  10.831276  1519.500000\n"
     ]
    }
   ],
   "source": [
    "sd = datetime(2015,1,1)\n",
    "ed = datetime(2019,12,31)\n",
    "truncated_df = df.fillna(method='ffill').truncate(before=sd,after=ed)\n",
    "\n",
    "print(truncated_df.head(10))\n",
    "print(truncated_df.tail(10))"
   ]
  },
  {
   "cell_type": "code",
   "execution_count": 3,
   "metadata": {},
   "outputs": [
    {
     "name": "stdout",
     "output_type": "stream",
     "text": [
      "<class 'pandas.core.series.Series'>\n",
      "2019-12-26 00:00:00\n"
     ]
    },
    {
     "data": {
      "text/plain": [
       "-0.5282820677145933"
      ]
     },
     "execution_count": 3,
     "metadata": {},
     "output_type": "execute_result"
    }
   ],
   "source": [
    "from lib import drawdown,plot_drawdown,cagr\n",
    "print(type(truncated_df['Tesla']))\n",
    "print(truncated_df['Tesla'].idxmax())\n",
    "drawdown(truncated_df['Tesla'])"
   ]
  },
  {
   "cell_type": "code",
   "execution_count": 4,
   "metadata": {},
   "outputs": [
    {
     "name": "stdout",
     "output_type": "stream",
     "text": [
      "MDD\n",
      "-0.8339473159907649\n",
      "-0.5282820677145933\n",
      "-0.19329476497098097\n",
      "-0.0430687052394578\n",
      "-0.19197965100849382\n",
      "CAGR\n",
      "1.3576235406517978\n",
      "0.164502615416267\n",
      "0.04042168781989597\n",
      "0.015289356261021604\n",
      "0.04086387200374189\n"
     ]
    }
   ],
   "source": [
    "from lib import drawdown,plot_drawdown,cagr\n",
    "\n",
    "# Get MDD\n",
    "print(\"MDD\")\n",
    "for name in investments.keys():\n",
    "    print(drawdown(truncated_df[name]).min())\n",
    "    plot_drawdown(truncated_df[name])\n",
    "print(\"CAGR\")\n",
    "# Get CAGR\n",
    "period=720\n",
    "for name in investments.keys():\n",
    "    start =(truncated_df[name].iloc[0])\n",
    "    end = (truncated_df[name].iloc[-1])\n",
    "    #print (df[name].head(10))\n",
    "    #print (df[name].tail(10))    \n",
    "    #print(end/start)\n",
    "    cagrs = truncated_df[name].rolling(period).apply(func=lambda v:cagr(v.iloc[0],v.iloc[-1],period),raw=False)\n",
    "    total_cagr = cagr(start,end, 365*4)\n",
    "    #print(name)\n",
    "    print(cagrs.std())\n",
    "    #print(total_cagr)"
   ]
  },
  {
   "cell_type": "code",
   "execution_count": 5,
   "metadata": {},
   "outputs": [
    {
     "name": "stdout",
     "output_type": "stream",
     "text": [
      "-0.5366820627320001\n",
      "-0.2960034281335639\n",
      "-0.15592237043056084\n",
      "-0.027306126936037137\n",
      "-0.10457718263264185\n"
     ]
    },
    {
     "data": {
      "text/plain": [
       "Text(0, 0.5, 'log(P(x))')"
      ]
     },
     "execution_count": 5,
     "metadata": {},
     "output_type": "execute_result"
    },
    {
     "data": {
      "image/png": "[encoded data removed]",
      "text/plain": [
       "<Figure size 432x288 with 1 Axes>"
      ]
     },
     "metadata": {
      "needs_background": "light"
     },
     "output_type": "display_data"
    }
   ],
   "source": [
    "period=30\n",
    "for name in investments.keys():\n",
    "    s=truncated_df[name]\n",
    "    drawdowns = s.rolling(period).apply(func=drawdown,raw=False)\n",
    "    mdd = drawdowns.min()\n",
    "    x=list(map(lambda v:drawdowns.quantile(math.exp(-v*0.1)),np.arange(0,50)))\n",
    "    print(drawdowns.quantile(0.001))\n",
    "    y = list(map(lambda v:math.log((drawdowns<=v).sum()/drawdowns.count()),x))\n",
    "    plt.scatter (x,y,label=name)\n",
    "    plt.legend()\n",
    "plt.title(f'Drawdown in {period} days')\n",
    "plt.xlabel('Drawdown')\n",
    "plt.ylabel('log(P(x))')\n"
   ]
  },
  {
   "cell_type": "code",
   "execution_count": null,
   "metadata": {},
   "outputs": [],
   "source": []
  }
 ],
 "metadata": {
  "kernelspec": {
   "display_name": "Python 3",
   "language": "python",
   "name": "python3"
  },
  "language_info": {
   "codemirror_mode": {
    "name": "ipython",
    "version": 3
   },
   "file_extension": ".py",
   "mimetype": "text/x-python",
   "name": "python",
   "nbconvert_exporter": "python",
   "pygments_lexer": "ipython3",
   "version": "3.6.8"
  }
 },
 "nbformat": 4,
 "nbformat_minor": 4
}
