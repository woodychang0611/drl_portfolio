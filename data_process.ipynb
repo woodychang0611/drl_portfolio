{
 "cells": [
  {
   "cell_type": "markdown",
   "metadata": {},
   "source": [
    "# Load Data"
   ]
  },
  {
   "cell_type": "code",
   "execution_count": null,
   "metadata": {},
   "outputs": [],
   "source": [
    "import pandas as pd\n",
    "import pandas_datareader as pdr\n",
    "from datetime import datetime\n",
    "import os\n",
    "import matplotlib.pyplot as plt\n",
    "import math\n",
    "import numpy as np\n",
    "from lib import read_investments,drawdown,plot_drawdown,cagr\n",
    "\n",
    "investments ={\n",
    "    \"Bitcoin\":\"BTC-USD\",    \n",
    "    \"Tesla\":\"TSLA\",    \n",
    "    \"S&P500\":\"VFINX\",\n",
    "    \"Bond\":\"VBMFX\",\n",
    "    \"Gold\": \"GC=F\",\n",
    "}\n",
    "\n",
    "investments_dataframe= read_investments()\n",
    "print(investments_dataframe.head(10))\n",
    "print(investments_dataframe.tail(10))"
   ]
  },
  {
   "cell_type": "code",
   "execution_count": null,
   "metadata": {},
   "outputs": [],
   "source": [
    "\n",
    "\n",
    "sd=datetime(2015,1,1)\n",
    "ed=datetime(2019,12,31)\n",
    "truncated_df = investments_dataframe.fillna(method='ffill').truncate(before=sd,after=ed)\n",
    "# Get MDD\n",
    "print(\"MDD\")\n",
    "for name in investments.keys():\n",
    "    print(drawdown(truncated_df[name]).min())\n",
    "print(\"CAGR\")\n",
    "# Get CAGR\n",
    "period=720\n",
    "for name in investments.keys():\n",
    "    start =(truncated_df[name].iloc[0])\n",
    "    end = (truncated_df[name].iloc[-1])\n",
    "    cagrs = truncated_df[name].rolling(period).apply(func=lambda v:cagr(v.iloc[0],v.iloc[-1],period),raw=False)\n",
    "    total_cagr = cagr(start,end, 365*4)\n",
    "    print(cagrs.std())"
   ]
  },
  {
   "cell_type": "code",
   "execution_count": null,
   "metadata": {},
   "outputs": [],
   "source": [
    "\n",
    "drawdown_period =30\n",
    "\n",
    "for name in investments.keys():\n",
    "    print(name)\n",
    "    s=investments_dataframe[name].fillna(method='ffill')\n",
    "    drawdowns = s.rolling(drawdown_period).apply(func=drawdown,raw=False)\n",
    "    mdd = drawdowns.min()\n",
    "    x=list(map(lambda v:drawdowns.quantile(math.exp(-v*0.1)),np.arange(0,50)))\n",
    "    print(drawdowns.quantile(0.01))\n",
    "    y = list(map(lambda v:math.log((drawdowns<=v).sum()/drawdowns.count()),x))\n",
    "    plt.scatter (x,y,label=name)\n",
    "    plt.legend()\n",
    "plt.title(f'Drawdown in {period} days')\n",
    "plt.xlabel('Drawdown')\n",
    "plt.ylabel('log(P(x))')"
   ]
  },
  {
   "cell_type": "code",
   "execution_count": null,
   "metadata": {},
   "outputs": [],
   "source": [
    "check_period=720\n",
    "q_values=(0.1,0.03,0.01)\n",
    "drawdown_periods=(5,10,15)\n",
    "df =pd.DataFrame(index=investments.keys())\n",
    "for name in investments.keys():\n",
    "    print(name)\n",
    "    #propagate last valid observation forward\n",
    "    s=investments_dataframe[name].fillna(method='ffill')\n",
    "    print(s.count())\n",
    "    for drawdown_period in drawdown_periods:\n",
    "        print (f'Drawdown period {drawdown_period}')\n",
    "        drawdowns = s.rolling(drawdown_period).apply(func=drawdown,raw=False)\n",
    "        for q in q_values:\n",
    "            quantiles = drawdowns.rolling(check_period).apply(lambda v:v.quantile(q),raw=False)\n",
    "            rel_std = quantiles.std()/quantiles.mean()\n",
    "            print(f'Q:{q}, releatvie std:{rel_std}')\n",
    "            df.at[name,f'DD_{drawdown_period}_Q_{q}']=rel_std\n",
    "print(\"-----\")\n",
    "print(df)\n",
    "df.to_csv(path_or_buf='drawdown.csv')"
   ]
  },
  {
   "cell_type": "code",
   "execution_count": null,
   "metadata": {},
   "outputs": [],
   "source": []
  }
 ],
 "metadata": {
  "kernelspec": {
   "display_name": "Python 3.6.8 64-bit ('big_data')",
   "language": "python",
   "name": "python36864bitbigdata6a972f20b8654d84b492b991b0b1f253"
  },
  "language_info": {
   "codemirror_mode": {
    "name": "ipython",
    "version": 3
   },
   "file_extension": ".py",
   "mimetype": "text/x-python",
   "name": "python",
   "nbconvert_exporter": "python",
   "pygments_lexer": "ipython3",
   "version": "3.6.8-final"
  }
 },
 "nbformat": 4,
 "nbformat_minor": 4
}