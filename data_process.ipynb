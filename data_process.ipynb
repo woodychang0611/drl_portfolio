{
 "cells": [
  {
   "cell_type": "markdown",
   "metadata": {},
   "source": [
    "# Load Data"
   ]
  },
  {
   "cell_type": "code",
   "execution_count": null,
   "metadata": {},
   "outputs": [],
   "source": [
    "import pandas as pd\n",
    "import pandas_datareader as pdr\n",
    "from datetime import datetime\n",
    "import os\n",
    "import matplotlib.pyplot as plt\n",
    "import math\n",
    "import numpy as np\n",
    "sd = datetime(1980,1,1)\n",
    "ed = datetime.today()\n",
    "df= pd.DataFrame(index=pd.date_range(start=sd,end=ed, freq='D'))\n",
    "#df = pd.DataFrame()\n",
    "investments ={\n",
    "   \"Bitcoin\":\"BTC-USD\",    \n",
    "    \"Tesla\":\"TSLA\",    \n",
    "    \"S&P500\":\"VFINX\",\n",
    "    \"Bond\":\"VBMFX\",\n",
    "    \"Gold\": \"GC=F\",\n",
    "}\n",
    "\n",
    "investments_data = \"investments_data.csv\"\n",
    "s=[]\n",
    "if (os.path.exists(investments_data)):\n",
    "    print(\"Load existing data\")\n",
    "    df = pd.read_csv(investments_data, parse_dates=True,index_col='Date')\n",
    "else:\n",
    "    for name in investments.keys():\n",
    "        s = (pdr.get_data_yahoo(symbols=investments[name], start=sd, end=ed)[\"Adj Close\"])\n",
    "        #drop duplicated index\n",
    "        s = s.groupby(level=0).last()\n",
    "        df[name]=s\n",
    "    df.to_csv(path_or_buf=investments_data,index_label='Date')\n",
    "print(df.head(10),)\n",
    "print(df.tail(10),)\n",
    "#df.columns"
   ]
  },
  {
   "cell_type": "code",
   "execution_count": null,
   "metadata": {},
   "outputs": [],
   "source": [
    "sd = datetime(2015,1,1)\n",
    "ed = datetime(2019,12,31)\n",
    "truncated_df = df.fillna(method='ffill').truncate(before=sd,after=ed)\n",
    "\n",
    "print(truncated_df.head(10))\n",
    "print(truncated_df.tail(10))"
   ]
  },
  {
   "cell_type": "code",
   "execution_count": null,
   "metadata": {},
   "outputs": [],
   "source": [
    "from lib import drawdown,plot_drawdown,cagr\n",
    "\n",
    "# Get MDD\n",
    "print(\"MDD\")\n",
    "for name in investments.keys():\n",
    "    print(drawdown(truncated_df[name]).min())\n",
    "print(\"CAGR\")\n",
    "# Get CAGR\n",
    "period=720\n",
    "for name in investments.keys():\n",
    "    start =(truncated_df[name].iloc[0])\n",
    "    end = (truncated_df[name].iloc[-1])\n",
    "    cagrs = truncated_df[name].rolling(period).apply(func=lambda v:cagr(v.iloc[0],v.iloc[-1],period),raw=False)\n",
    "    total_cagr = cagr(start,end, 365*4)\n",
    "    print(cagrs.std())"
   ]
  },
  {
   "cell_type": "code",
   "execution_count": null,
   "metadata": {},
   "outputs": [],
   "source": [
    "\n",
    "drawdown_period =30\n",
    "\n",
    "for name in investments.keys():\n",
    "    print(name)\n",
    "    s=df[name].fillna(method='ffill')\n",
    "    drawdowns = s.rolling(drawdown_period).apply(func=drawdown,raw=False)\n",
    "    mdd = drawdowns.min()\n",
    "    x=list(map(lambda v:drawdowns.quantile(math.exp(-v*0.1)),np.arange(0,50)))\n",
    "    print(drawdowns.quantile(0.01))\n",
    "    y = list(map(lambda v:math.log((drawdowns<=v).sum()/drawdowns.count()),x))\n",
    "    plt.scatter (x,y,label=name)\n",
    "    plt.legend()\n",
    "plt.title(f'Drawdown in {period} days')\n",
    "plt.xlabel('Drawdown')\n",
    "plt.ylabel('log(P(x))')"
   ]
  },
  {
   "cell_type": "code",
   "execution_count": null,
   "metadata": {},
   "outputs": [],
   "source": [
    "check_period=720\n",
    "q_values=(0.1,0.03,0.01)\n",
    "period=720\n",
    "drawdown_periods=(10,30,90,720)\n",
    "for name in investments.keys():\n",
    "    print(name)\n",
    "    s=df[name].fillna(method='ffill')\n",
    "    print(s.count())\n",
    "    for drawdown_period in drawdown_periods:\n",
    "        print (f'Drawdown period {drawdown_period}')\n",
    "        drawdowns = s.rolling(drawdown_period).apply(func=drawdown,raw=False)\n",
    "        print(f'xxx: {drawdowns.count()}')\n",
    "        for q in q_values:\n",
    "            print(f'Q:{q}')\n",
    "            quantiles = drawdowns.rolling(check_period).apply(lambda v:v.quantile(q),raw=False)\n",
    "            avg = quantiles.mean()\n",
    "            std = quantiles.std()\n",
    "            print(f'avg: {avg}, std: {std}, releatvie std:{std/avg}')"
   ]
  },
  {
   "cell_type": "code",
   "execution_count": null,
   "metadata": {},
   "outputs": [],
   "source": []
  }
 ],
 "metadata": {
  "kernelspec": {
   "display_name": "Python 3",
   "language": "python",
   "name": "python3"
  },
  "language_info": {
   "codemirror_mode": {
    "name": "ipython",
    "version": 3
   },
   "file_extension": ".py",
   "mimetype": "text/x-python",
   "name": "python",
   "nbconvert_exporter": "python",
   "pygments_lexer": "ipython3",
   "version": "3.6.8-final"
  }
 },
 "nbformat": 4,
 "nbformat_minor": 4
}