{
 "cells": [
  {
   "cell_type": "code",
   "execution_count": null,
   "metadata": {},
   "outputs": [],
   "source": [
    "import matplotlib.pyplot as plt\n",
    "import matplotlib\n",
    "import numpy as np\n",
    "import math\n",
    "from lib import set_matplotlib_style"
   ]
  },
  {
   "cell_type": "code",
   "execution_count": null,
   "metadata": {},
   "outputs": [],
   "source": [
    "x = np.arange(0.05, 0.99, 0.01)\n",
    "def ratio(risk,risk_target):\n",
    "    r = 1 if risk<risk_target else 1+(risk-risk_target)/risk_target\n",
    "    return 1/math.pow(r,1)\n",
    "\n",
    "def sigmoid(x):\n",
    "    return 1. / (1 + np.exp(-x))\n",
    "\n",
    "def ratio2(risk,risk_target):    \n",
    "    return sigmoid(-(risk-risk_target)/risk_target*2)\n",
    "\n",
    "def ratio3(risk,risk_target):\n",
    "    return 1-math.exp(-0.5*risk_target/(risk))\n",
    "\n",
    "\n",
    "set_matplotlib_style()    \n",
    "\n",
    "#ratio(1,1)\n",
    "risk_targets = [1,0.4,0.1]\n",
    "for risk_target in risk_targets:\n",
    "    y = list(map(lambda x: ratio2(x,risk_target),x))\n",
    "    plt.plot(x,y,label=f\"target:{risk_target}\")\n",
    "y = list(map(lambda x: 0.05/max(x,0.05),x))\n",
    "\n",
    "plt.plot(x,y,label=\"Sterling ratio\",color=\"#B9CAFF\",linestyle=\"dashed\") \n",
    "plt.legend()\n",
    "plt.title(f'Adjustment of MDD')\n",
    "plt.xlabel('MDD')\n",
    "plt.ylabel('Scale')\n",
    "plt.show()"
   ]
  },
  {
   "cell_type": "code",
   "execution_count": null,
   "metadata": {},
   "outputs": [],
   "source": [
    "print(matplotlib.rcParams)"
   ]
  },
  {
   "cell_type": "code",
   "execution_count": null,
   "metadata": {},
   "outputs": [],
   "source": []
  }
 ],
 "metadata": {
  "kernelspec": {
   "display_name": "Python 3",
   "language": "python",
   "name": "python3"
  },
  "language_info": {
   "codemirror_mode": {
    "name": "ipython",
    "version": 3
   },
   "file_extension": ".py",
   "mimetype": "text/x-python",
   "name": "python",
   "nbconvert_exporter": "python",
   "pygments_lexer": "ipython3",
   "version": "3.6.8-final"
  }
 },
 "nbformat": 4,
 "nbformat_minor": 4
}